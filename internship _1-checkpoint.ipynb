{
 "cells": [
  {
   "cell_type": "markdown",
   "id": "d39b76d9",
   "metadata": {},
   "source": [
    "# factorial of a number."
   ]
  },
  {
   "cell_type": "code",
   "execution_count": 4,
   "id": "91225495",
   "metadata": {},
   "outputs": [
    {
     "name": "stdout",
     "output_type": "stream",
     "text": [
      "Enter a number: 8\n",
      "The factorial of 8 is 40320\n"
     ]
    }
   ],
   "source": [
    "num = int(input(\"Enter a number: \"))\n",
    "factorial = 1\n",
    "# check if the number is negative, positive or zero\n",
    "if num < 0:\n",
    "    print(\"Sorry, factorial does not exist for negative numbers\")\n",
    "elif num == 0:\n",
    "    print(\"The factorial of 0 is 1\")\n",
    "else:\n",
    "    for i in range(1,num + 1):\n",
    "        factorial=factorial*i\n",
    "    print(\"The factorial of\",num,\"is\",factorial)"
   ]
  },
  {
   "cell_type": "markdown",
   "id": "f82cb056",
   "metadata": {},
   "source": [
    "# whether a number is prime or composite."
   ]
  },
  {
   "cell_type": "code",
   "execution_count": 2,
   "id": "b12e2f74",
   "metadata": {},
   "outputs": [
    {
     "name": "stdout",
     "output_type": "stream",
     "text": [
      "enter the no6\n",
      "composite no.\n"
     ]
    }
   ],
   "source": [
    "count=0 \n",
    "n=int(input('enter the no')) \n",
    "for i in range(1,n+1): \n",
    "    if n%i==0 and n%n==0: \n",
    "        count=count+1 \n",
    "    else: \n",
    "        count=count \n",
    "if count==2: \n",
    "    print(\"prime no\") \n",
    "else: \n",
    "    print(\"composite no.\") "
   ]
  },
  {
   "cell_type": "markdown",
   "id": "a620362f",
   "metadata": {},
   "source": [
    "# check whether a given string is palindrome or not."
   ]
  },
  {
   "cell_type": "code",
   "execution_count": 1,
   "id": "7993becf",
   "metadata": {},
   "outputs": [
    {
     "name": "stdout",
     "output_type": "stream",
     "text": [
      "Enter a string:dfgg\n",
      "Not a palindrome\n"
     ]
    }
   ],
   "source": [
    "string=input((\"Enter a string:\"))\n",
    "if(string==string[::-1]):\n",
    "      print(\"The string is a palindrome\")\n",
    "else:\n",
    "      print(\"Not a palindrome\")"
   ]
  },
  {
   "cell_type": "markdown",
   "id": "00c20966",
   "metadata": {},
   "source": [
    "# get the third side of right-angled triangle from two given sides."
   ]
  },
  {
   "cell_type": "code",
   "execution_count": 4,
   "id": "5746dbc7",
   "metadata": {},
   "outputs": [],
   "source": [
    "def right_angled(x, y, z):\n",
    "    \"\"\"This function returns if a triangle is or isn't\n",
    "    right-angled given side lengths x, y, and z.\"\"\"\n",
    "    p = x + y + z #triangle perimeter\n",
    "    a_sym = p / 180 #triangle perimeter divided by 180 \n",
    "    one = x * a_sym #angle one\n",
    "    two = y * a_sym #angle two\n",
    "    three = z * a_sym #angle three\n",
    "    if one and two or one and three or two and three == 90:\n",
    "        return \"The triangle is right-angled.\"\n",
    "    elif one and two and three == 180:\n",
    "        return \"The triangle is right-angled.\" #next conditional(s)?\n",
    "    else:\n",
    "        return \"The triangle is not right-angled.\"\n",
    "\n"
   ]
  },
  {
   "cell_type": "code",
   "execution_count": 7,
   "id": "8406ad8b",
   "metadata": {},
   "outputs": [
    {
     "data": {
      "text/plain": [
       "'The triangle is right-angled.'"
      ]
     },
     "execution_count": 7,
     "metadata": {},
     "output_type": "execute_result"
    }
   ],
   "source": [
    "right_angled(4, 5, 6)"
   ]
  },
  {
   "cell_type": "markdown",
   "id": "5e1ace54",
   "metadata": {},
   "source": [
    "# print the frequency of each of the characters present in a given string"
   ]
  },
  {
   "cell_type": "code",
   "execution_count": 8,
   "id": "e4863222",
   "metadata": {},
   "outputs": [
    {
     "name": "stdout",
     "output_type": "stream",
     "text": [
      "Enter a string: raganee\n",
      "r,1\n",
      "a,2\n",
      "g,1\n",
      "n,1\n",
      "e,2\n"
     ]
    }
   ],
   "source": [
    "string = input(\"Enter a string: \")\n",
    "lst1 = []\n",
    "for char in string:\n",
    "    if char not in lst1:\n",
    "        lst1.append(char)\n",
    "for item in lst1:\n",
    "    print(item,string.count(item), sep = \",\")"
   ]
  },
  {
   "cell_type": "code",
   "execution_count": null,
   "id": "cca81473",
   "metadata": {},
   "outputs": [],
   "source": []
  }
 ],
 "metadata": {
  "kernelspec": {
   "display_name": "Python 3 (ipykernel)",
   "language": "python",
   "name": "python3"
  },
  "language_info": {
   "codemirror_mode": {
    "name": "ipython",
    "version": 3
   },
   "file_extension": ".py",
   "mimetype": "text/x-python",
   "name": "python",
   "nbconvert_exporter": "python",
   "pygments_lexer": "ipython3",
   "version": "3.9.7"
  }
 },
 "nbformat": 4,
 "nbformat_minor": 5
}

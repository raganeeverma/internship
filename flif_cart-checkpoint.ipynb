{
 "cells": [
  {
   "cell_type": "markdown",
   "id": "4190c95e",
   "metadata": {},
   "source": [
    "# Q4: Scrape data of first 100 sunglasses listings on flipkart.com. You have to scrape four attributes:\n",
    "1. Brand\n",
    "2. Product Description\n",
    "3. Price"
   ]
  },
  {
   "cell_type": "code",
   "execution_count": 2,
   "id": "f2a69d11",
   "metadata": {},
   "outputs": [],
   "source": [
    "import selenium\n",
    "from selenium import webdriver # ready to start the browser\n",
    "import pandas as pd\n",
    "import warnings\n",
    "warnings.filterwarnings(\"ignore\")\n",
    "\n",
    "from selenium.webdriver.common.by  import By\n",
    "\n",
    "import time"
   ]
  },
  {
   "cell_type": "code",
   "execution_count": 3,
   "id": "9d23af79",
   "metadata": {},
   "outputs": [],
   "source": [
    "# first connect to the driver\n",
    "\n",
    "driver = webdriver.Chrome(r\"C:\\Users\\HP\\Downloads\\chromedriver_win32\\chromedriver.exe\")\n",
    "\n",
    "# connect to  the url that i want to open \n",
    "driver.get(\"https://www.flipkart.com/\")"
   ]
  },
  {
   "cell_type": "code",
   "execution_count": 4,
   "id": "ba8fbce7",
   "metadata": {},
   "outputs": [],
   "source": [
    "Product=driver.find_element(By.XPATH,\"/html/body/div[1]/div/div[1]/div[1]/div[2]/div[2]/form/div/div/input \")# absolute x_path\n",
    "Product.send_keys(\"sunglasses\") "
   ]
  },
  {
   "cell_type": "code",
   "execution_count": 6,
   "id": "638371dd",
   "metadata": {},
   "outputs": [],
   "source": [
    "search_button=driver.find_element(By.XPATH,'//button[@class=\"L0Z3Pu\"]')# absolute x_path\n",
    "search_button.click()"
   ]
  },
  {
   "cell_type": "code",
   "execution_count": 7,
   "id": "a5dfc78e",
   "metadata": {},
   "outputs": [],
   "source": [
    "# create empty list whatevwe we want to scrap\n",
    "Product_Brand=[]\n",
    "Product_Description=[]\n",
    "Product_Price=[]"
   ]
  },
  {
   "cell_type": "code",
   "execution_count": 9,
   "id": "fdb1a660",
   "metadata": {},
   "outputs": [],
   "source": [
    "start=0\n",
    "end=3\n",
    "for page in range(start,end):\n",
    "    # sraping v from given page\n",
    "    Brand_tags=driver.find_elements(By.XPATH,'//div[@class=\"_2WkVRV\"]')# relative x_path\n",
    "    for i in Brand_tags:\n",
    "        Brand=i.text\n",
    "        Product_Brand.append(Brand)\n",
    "\n",
    "    \n",
    "    # sraping Product_Description from given page\n",
    "    Description_tags=driver.find_elements(By.XPATH,'//a[@class=\"IRpwTa\"]')\n",
    "    for i in Description_tags:\n",
    "        Description=i.text\n",
    "        Product_Description.append(Description)\n",
    "    \n",
    "    # sraping Product_Price from given page\n",
    "    Price_tags=driver.find_elements(By.XPATH,'//div[@class=\"_30jeq3\"]')\n",
    "    for i in Price_tags:\n",
    "        Price=i.text\n",
    "        Product_Price.append(Price)\n",
    "        \n",
    "next_button=driver.find_element(By.XPATH,'//a[@class=\"_1LKTO3\"]')# relative x_path\n",
    "next_button.click()\n",
    "time.sleep(3)"
   ]
  },
  {
   "cell_type": "code",
   "execution_count": 10,
   "id": "8ab2cbbd",
   "metadata": {},
   "outputs": [
    {
     "name": "stdout",
     "output_type": "stream",
     "text": [
      "120 120 120\n"
     ]
    }
   ],
   "source": [
    "print(len(Product_Brand),len(Product_Description),len(Product_Price))"
   ]
  },
  {
   "cell_type": "code",
   "execution_count": 11,
   "id": "81674f21",
   "metadata": {},
   "outputs": [],
   "source": [
    "sun_glass=pd.DataFrame({\"Product_Brand\":Product_Brand,\"Product_Description\":Product_Description,\"Product_Price\":Product_Price})"
   ]
  },
  {
   "cell_type": "code",
   "execution_count": 12,
   "id": "1cc01ba2",
   "metadata": {},
   "outputs": [
    {
     "data": {
      "text/html": [
       "<div>\n",
       "<style scoped>\n",
       "    .dataframe tbody tr th:only-of-type {\n",
       "        vertical-align: middle;\n",
       "    }\n",
       "\n",
       "    .dataframe tbody tr th {\n",
       "        vertical-align: top;\n",
       "    }\n",
       "\n",
       "    .dataframe thead th {\n",
       "        text-align: right;\n",
       "    }\n",
       "</style>\n",
       "<table border=\"1\" class=\"dataframe\">\n",
       "  <thead>\n",
       "    <tr style=\"text-align: right;\">\n",
       "      <th></th>\n",
       "      <th>Product_Brand</th>\n",
       "      <th>Product_Description</th>\n",
       "      <th>Product_Price</th>\n",
       "    </tr>\n",
       "  </thead>\n",
       "  <tbody>\n",
       "    <tr>\n",
       "      <th>0</th>\n",
       "      <td>FOSSIL</td>\n",
       "      <td>Others Rectangular Sunglasses (54)</td>\n",
       "      <td>₹2,279</td>\n",
       "    </tr>\n",
       "    <tr>\n",
       "      <th>1</th>\n",
       "      <td>FOSSIL</td>\n",
       "      <td>Others Aviator Sunglasses (58)</td>\n",
       "      <td>₹2,899</td>\n",
       "    </tr>\n",
       "    <tr>\n",
       "      <th>2</th>\n",
       "      <td>Fastrack</td>\n",
       "      <td>UV Protection Wayfarer Sunglasses (Free Size)</td>\n",
       "      <td>₹499</td>\n",
       "    </tr>\n",
       "    <tr>\n",
       "      <th>3</th>\n",
       "      <td>Fastrack</td>\n",
       "      <td>UV Protection Rectangular Sunglasses (Free Size)</td>\n",
       "      <td>₹449</td>\n",
       "    </tr>\n",
       "    <tr>\n",
       "      <th>4</th>\n",
       "      <td>SHAAH COLLECTIONS</td>\n",
       "      <td>UV Protection Round Sunglasses (54)</td>\n",
       "      <td>₹79</td>\n",
       "    </tr>\n",
       "    <tr>\n",
       "      <th>...</th>\n",
       "      <td>...</td>\n",
       "      <td>...</td>\n",
       "      <td>...</td>\n",
       "    </tr>\n",
       "    <tr>\n",
       "      <th>115</th>\n",
       "      <td>CARRERA</td>\n",
       "      <td>Others Rectangular Sunglasses (52)</td>\n",
       "      <td>₹2,999</td>\n",
       "    </tr>\n",
       "    <tr>\n",
       "      <th>116</th>\n",
       "      <td>ROYAL SON</td>\n",
       "      <td>Polarized, UV Protection Aviator Sunglasses (58)</td>\n",
       "      <td>₹461</td>\n",
       "    </tr>\n",
       "    <tr>\n",
       "      <th>117</th>\n",
       "      <td>PIRASO</td>\n",
       "      <td>UV Protection Aviator Sunglasses (58)</td>\n",
       "      <td>₹244</td>\n",
       "    </tr>\n",
       "    <tr>\n",
       "      <th>118</th>\n",
       "      <td>Fastrack</td>\n",
       "      <td>UV Protection Aviator Sunglasses (Free Size)</td>\n",
       "      <td>₹459</td>\n",
       "    </tr>\n",
       "    <tr>\n",
       "      <th>119</th>\n",
       "      <td>Singco India</td>\n",
       "      <td>Gradient, Toughened Glass Lens, UV Protection ...</td>\n",
       "      <td>₹507</td>\n",
       "    </tr>\n",
       "  </tbody>\n",
       "</table>\n",
       "<p>120 rows × 3 columns</p>\n",
       "</div>"
      ],
      "text/plain": [
       "         Product_Brand                                Product_Description  \\\n",
       "0               FOSSIL                 Others Rectangular Sunglasses (54)   \n",
       "1               FOSSIL                     Others Aviator Sunglasses (58)   \n",
       "2             Fastrack      UV Protection Wayfarer Sunglasses (Free Size)   \n",
       "3             Fastrack   UV Protection Rectangular Sunglasses (Free Size)   \n",
       "4    SHAAH COLLECTIONS                UV Protection Round Sunglasses (54)   \n",
       "..                 ...                                                ...   \n",
       "115            CARRERA                 Others Rectangular Sunglasses (52)   \n",
       "116          ROYAL SON   Polarized, UV Protection Aviator Sunglasses (58)   \n",
       "117             PIRASO              UV Protection Aviator Sunglasses (58)   \n",
       "118           Fastrack       UV Protection Aviator Sunglasses (Free Size)   \n",
       "119       Singco India  Gradient, Toughened Glass Lens, UV Protection ...   \n",
       "\n",
       "    Product_Price  \n",
       "0          ₹2,279  \n",
       "1          ₹2,899  \n",
       "2            ₹499  \n",
       "3            ₹449  \n",
       "4             ₹79  \n",
       "..            ...  \n",
       "115        ₹2,999  \n",
       "116          ₹461  \n",
       "117          ₹244  \n",
       "118          ₹459  \n",
       "119          ₹507  \n",
       "\n",
       "[120 rows x 3 columns]"
      ]
     },
     "execution_count": 12,
     "metadata": {},
     "output_type": "execute_result"
    }
   ],
   "source": [
    "sun_glass"
   ]
  },
  {
   "cell_type": "code",
   "execution_count": null,
   "id": "2f0d25d4",
   "metadata": {},
   "outputs": [],
   "source": []
  }
 ],
 "metadata": {
  "kernelspec": {
   "display_name": "Python 3 (ipykernel)",
   "language": "python",
   "name": "python3"
  },
  "language_info": {
   "codemirror_mode": {
    "name": "ipython",
    "version": 3
   },
   "file_extension": ".py",
   "mimetype": "text/x-python",
   "name": "python",
   "nbconvert_exporter": "python",
   "pygments_lexer": "ipython3",
   "version": "3.9.7"
  }
 },
 "nbformat": 4,
 "nbformat_minor": 5
}
